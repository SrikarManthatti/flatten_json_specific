{
 "cells": [
  {
   "cell_type": "markdown",
   "metadata": {},
   "source": [
    "### Example 1\n",
    "\n",
    "In this example, I will just use a normal json file with one level nested keys"
   ]
  },
  {
   "cell_type": "code",
   "execution_count": 1,
   "metadata": {},
   "outputs": [],
   "source": [
    "import utils.flatten_json as fj"
   ]
  },
  {
   "cell_type": "code",
   "execution_count": 2,
   "metadata": {},
   "outputs": [],
   "source": [
    "data = [{'state': 'Florida',\n",
    "          'shortname': 'FL',\n",
    "          'info': {\n",
    "               'governor': 'Rick Scott'\n",
    "          },\n",
    "          'counties': [{'name': 'Dade', 'population': 12345},\n",
    "                      {'name': 'Broward', 'population': 40000},\n",
    "                      {'name': 'Palm Beach', 'population': 60000}]},\n",
    "         {'state': 'Ohio',\n",
    "          'shortname': 'OH',\n",
    "          'info': {\n",
    "               'governor': 'John Kasich'\n",
    "          },\n",
    "          'counties': [{'name': 'Summit', 'population': 1234},\n",
    "                       {'name': 'Cuyahoga', 'population': 1337},\n",
    "                      {'name': 'Cuyahoga2', 'population': 1331}]}]"
   ]
  },
  {
   "cell_type": "code",
   "execution_count": 3,
   "metadata": {},
   "outputs": [
    {
     "data": {
      "text/html": [
       "<div>\n",
       "<style scoped>\n",
       "    .dataframe tbody tr th:only-of-type {\n",
       "        vertical-align: middle;\n",
       "    }\n",
       "\n",
       "    .dataframe tbody tr th {\n",
       "        vertical-align: top;\n",
       "    }\n",
       "\n",
       "    .dataframe thead th {\n",
       "        text-align: right;\n",
       "    }\n",
       "</style>\n",
       "<table border=\"1\" class=\"dataframe\">\n",
       "  <thead>\n",
       "    <tr style=\"text-align: right;\">\n",
       "      <th></th>\n",
       "      <th>state</th>\n",
       "      <th>shortname</th>\n",
       "      <th>info.governor</th>\n",
       "      <th>counties.name</th>\n",
       "      <th>counties.population</th>\n",
       "    </tr>\n",
       "  </thead>\n",
       "  <tbody>\n",
       "    <tr>\n",
       "      <th>0</th>\n",
       "      <td>Florida</td>\n",
       "      <td>FL</td>\n",
       "      <td>Rick Scott</td>\n",
       "      <td>[Dade, Broward, Palm Beach]</td>\n",
       "      <td>[12345, 40000, 60000]</td>\n",
       "    </tr>\n",
       "    <tr>\n",
       "      <th>1</th>\n",
       "      <td>Ohio</td>\n",
       "      <td>OH</td>\n",
       "      <td>John Kasich</td>\n",
       "      <td>[Summit, Cuyahoga, Cuyahoga2]</td>\n",
       "      <td>[1234, 1337, 1331]</td>\n",
       "    </tr>\n",
       "  </tbody>\n",
       "</table>\n",
       "</div>"
      ],
      "text/plain": [
       "     state shortname info.governor                  counties.name  \\\n",
       "0  Florida        FL    Rick Scott    [Dade, Broward, Palm Beach]   \n",
       "1     Ohio        OH   John Kasich  [Summit, Cuyahoga, Cuyahoga2]   \n",
       "\n",
       "     counties.population  \n",
       "0  [12345, 40000, 60000]  \n",
       "1     [1234, 1337, 1331]  "
      ]
     },
     "execution_count": 3,
     "metadata": {},
     "output_type": "execute_result"
    }
   ],
   "source": [
    "df = fj.flatten_json(data)\n",
    "df"
   ]
  },
  {
   "cell_type": "markdown",
   "metadata": {},
   "source": [
    "### Example 2"
   ]
  },
  {
   "cell_type": "code",
   "execution_count": 4,
   "metadata": {},
   "outputs": [],
   "source": [
    "import utils.flatten_json as fj\n",
    "data = [{\"isbn\": \"123-456-222\",  \n",
    " \"author\": \n",
    "    {\n",
    "      \"lastname\": \"Doe\",\n",
    "      \"firstname\": \"Jane\"\n",
    "    },\n",
    "\"editor\": \n",
    "    {\n",
    "      \"lastname\": \"Smith\",\n",
    "      \"firstname\": \"Jane\"\n",
    "    },\n",
    "  \"title\": \"The Ultimate Database Study Guide\",  \n",
    "  \"category\": [\"Non-Fiction\", \"Technology\"]\n",
    " }]\n",
    "\n"
   ]
  },
  {
   "cell_type": "code",
   "execution_count": 5,
   "metadata": {},
   "outputs": [
    {
     "data": {
      "text/html": [
       "<div>\n",
       "<style scoped>\n",
       "    .dataframe tbody tr th:only-of-type {\n",
       "        vertical-align: middle;\n",
       "    }\n",
       "\n",
       "    .dataframe tbody tr th {\n",
       "        vertical-align: top;\n",
       "    }\n",
       "\n",
       "    .dataframe thead th {\n",
       "        text-align: right;\n",
       "    }\n",
       "</style>\n",
       "<table border=\"1\" class=\"dataframe\">\n",
       "  <thead>\n",
       "    <tr style=\"text-align: right;\">\n",
       "      <th></th>\n",
       "      <th>isbn</th>\n",
       "      <th>author.lastname</th>\n",
       "      <th>author.firstname</th>\n",
       "      <th>editor.lastname</th>\n",
       "      <th>editor.firstname</th>\n",
       "      <th>title</th>\n",
       "      <th>category</th>\n",
       "    </tr>\n",
       "  </thead>\n",
       "  <tbody>\n",
       "    <tr>\n",
       "      <th>0</th>\n",
       "      <td>123-456-222</td>\n",
       "      <td>Doe</td>\n",
       "      <td>Jane</td>\n",
       "      <td>Smith</td>\n",
       "      <td>Jane</td>\n",
       "      <td>The Ultimate Database Study Guide</td>\n",
       "      <td>[Non-Fiction, Technology]</td>\n",
       "    </tr>\n",
       "  </tbody>\n",
       "</table>\n",
       "</div>"
      ],
      "text/plain": [
       "          isbn author.lastname author.firstname editor.lastname  \\\n",
       "0  123-456-222             Doe             Jane           Smith   \n",
       "\n",
       "  editor.firstname                              title  \\\n",
       "0             Jane  The Ultimate Database Study Guide   \n",
       "\n",
       "                    category  \n",
       "0  [Non-Fiction, Technology]  "
      ]
     },
     "execution_count": 5,
     "metadata": {},
     "output_type": "execute_result"
    }
   ],
   "source": [
    "df = fj.flatten_json(data)\n",
    "df"
   ]
  },
  {
   "cell_type": "markdown",
   "metadata": {},
   "source": [
    "### Example 3"
   ]
  },
  {
   "cell_type": "code",
   "execution_count": 7,
   "metadata": {},
   "outputs": [],
   "source": [
    "import utils.flatten_json as fj\n",
    "data = [{\n",
    "\"problems\": [{\n",
    "    \"Diabetes\":[{\n",
    "        \"medications\":[{\n",
    "            \"medicationsClasses\":[{\n",
    "                \"className\":[{\n",
    "                    \"associatedDrug\":[{\n",
    "                        \"name\":\"asprin\",\n",
    "                        \"dose\":\"\",\n",
    "                        \"strength\":\"500 mg\"\n",
    "                    }],\n",
    "                    \"associatedDrug#2\":[{\n",
    "                        \"name\":\"somethingElse\",\n",
    "                        \"dose\":\"\",\n",
    "                        \"strength\":\"500 mg\"\n",
    "                    }]\n",
    "                }],\n",
    "                \"className2\":[{\n",
    "                    \"associatedDrug\":[{\n",
    "                        \"name\":\"asprin\",\n",
    "                        \"dose\":\"\",\n",
    "                        \"strength\":\"500 mg\"\n",
    "                    }],\n",
    "                    \"associatedDrug#2\":[{\n",
    "                        \"name\":\"somethingElse\",\n",
    "                        \"dose\":\"\",\n",
    "                        \"strength\":\"500 mg\"\n",
    "                    }]\n",
    "                }]\n",
    "            }]\n",
    "        }],\n",
    "        \"labs\":[{\n",
    "            \"missing_field\": \"missing_value\"\n",
    "        }]\n",
    "    }],\n",
    "    \"Asthma\":[{}]\n",
    "}]}]"
   ]
  },
  {
   "cell_type": "code",
   "execution_count": 8,
   "metadata": {},
   "outputs": [
    {
     "data": {
      "text/html": [
       "<div>\n",
       "<style scoped>\n",
       "    .dataframe tbody tr th:only-of-type {\n",
       "        vertical-align: middle;\n",
       "    }\n",
       "\n",
       "    .dataframe tbody tr th {\n",
       "        vertical-align: top;\n",
       "    }\n",
       "\n",
       "    .dataframe thead th {\n",
       "        text-align: right;\n",
       "    }\n",
       "</style>\n",
       "<table border=\"1\" class=\"dataframe\">\n",
       "  <thead>\n",
       "    <tr style=\"text-align: right;\">\n",
       "      <th></th>\n",
       "      <th>problems.Diabetes.medications.medicationsClasses.className.associatedDrug.name</th>\n",
       "      <th>problems.Diabetes.medications.medicationsClasses.className.associatedDrug.dose</th>\n",
       "      <th>problems.Diabetes.medications.medicationsClasses.className.associatedDrug.strength</th>\n",
       "      <th>problems.Diabetes.medications.medicationsClasses.className.associatedDrug#2.name</th>\n",
       "      <th>problems.Diabetes.medications.medicationsClasses.className.associatedDrug#2.dose</th>\n",
       "      <th>problems.Diabetes.medications.medicationsClasses.className.associatedDrug#2.strength</th>\n",
       "      <th>problems.Diabetes.medications.medicationsClasses.className2.associatedDrug.name</th>\n",
       "      <th>problems.Diabetes.medications.medicationsClasses.className2.associatedDrug.dose</th>\n",
       "      <th>problems.Diabetes.medications.medicationsClasses.className2.associatedDrug.strength</th>\n",
       "      <th>problems.Diabetes.medications.medicationsClasses.className2.associatedDrug#2.name</th>\n",
       "      <th>problems.Diabetes.medications.medicationsClasses.className2.associatedDrug#2.dose</th>\n",
       "      <th>problems.Diabetes.medications.medicationsClasses.className2.associatedDrug#2.strength</th>\n",
       "      <th>problems.Diabetes.labs.missing_field</th>\n",
       "    </tr>\n",
       "  </thead>\n",
       "  <tbody>\n",
       "    <tr>\n",
       "      <th>0</th>\n",
       "      <td>asprin</td>\n",
       "      <td></td>\n",
       "      <td>500 mg</td>\n",
       "      <td>somethingElse</td>\n",
       "      <td></td>\n",
       "      <td>500 mg</td>\n",
       "      <td>asprin</td>\n",
       "      <td></td>\n",
       "      <td>500 mg</td>\n",
       "      <td>somethingElse</td>\n",
       "      <td></td>\n",
       "      <td>500 mg</td>\n",
       "      <td>missing_value</td>\n",
       "    </tr>\n",
       "  </tbody>\n",
       "</table>\n",
       "</div>"
      ],
      "text/plain": [
       "  problems.Diabetes.medications.medicationsClasses.className.associatedDrug.name  \\\n",
       "0                                             asprin                               \n",
       "\n",
       "  problems.Diabetes.medications.medicationsClasses.className.associatedDrug.dose  \\\n",
       "0                                                                                  \n",
       "\n",
       "  problems.Diabetes.medications.medicationsClasses.className.associatedDrug.strength  \\\n",
       "0                                             500 mg                                   \n",
       "\n",
       "  problems.Diabetes.medications.medicationsClasses.className.associatedDrug#2.name  \\\n",
       "0                                      somethingElse                                 \n",
       "\n",
       "  problems.Diabetes.medications.medicationsClasses.className.associatedDrug#2.dose  \\\n",
       "0                                                                                    \n",
       "\n",
       "  problems.Diabetes.medications.medicationsClasses.className.associatedDrug#2.strength  \\\n",
       "0                                             500 mg                                     \n",
       "\n",
       "  problems.Diabetes.medications.medicationsClasses.className2.associatedDrug.name  \\\n",
       "0                                             asprin                                \n",
       "\n",
       "  problems.Diabetes.medications.medicationsClasses.className2.associatedDrug.dose  \\\n",
       "0                                                                                   \n",
       "\n",
       "  problems.Diabetes.medications.medicationsClasses.className2.associatedDrug.strength  \\\n",
       "0                                             500 mg                                    \n",
       "\n",
       "  problems.Diabetes.medications.medicationsClasses.className2.associatedDrug#2.name  \\\n",
       "0                                      somethingElse                                  \n",
       "\n",
       "  problems.Diabetes.medications.medicationsClasses.className2.associatedDrug#2.dose  \\\n",
       "0                                                                                     \n",
       "\n",
       "  problems.Diabetes.medications.medicationsClasses.className2.associatedDrug#2.strength  \\\n",
       "0                                             500 mg                                      \n",
       "\n",
       "  problems.Diabetes.labs.missing_field  \n",
       "0                        missing_value  "
      ]
     },
     "execution_count": 8,
     "metadata": {},
     "output_type": "execute_result"
    }
   ],
   "source": [
    "df = fj.flatten_json(data)\n",
    "df"
   ]
  },
  {
   "cell_type": "markdown",
   "metadata": {},
   "source": [
    "### Example 4"
   ]
  },
  {
   "cell_type": "code",
   "execution_count": 9,
   "metadata": {},
   "outputs": [],
   "source": [
    "import utils.flatten_json as fj\n",
    "data = [{ \n",
    "  \"accounting\" : [   \n",
    "                     { \"firstName\" : \"John\",  \n",
    "                       \"lastName\"  : \"Doe\",\n",
    "                       \"age\"       : 23 },\n",
    "\n",
    "                     { \"firstName\" : \"Mary\",  \n",
    "                       \"lastName\"  : \"Smith\",\n",
    "                        \"age\"      : 32 }\n",
    "                 ],                            \n",
    "  \"sales\"      : [ \n",
    "                     { \"firstName\" : \"Sally\", \n",
    "                       \"lastName\"  : \"Green\",\n",
    "                        \"age\"      : 27 },\n",
    "\n",
    "                     { \"firstName\" : \"Jim\",   \n",
    "                       \"lastName\"  : \"Galley\",\n",
    "                       \"age\"       : 41 }\n",
    "                 ] \n",
    "} ]"
   ]
  },
  {
   "cell_type": "code",
   "execution_count": 10,
   "metadata": {},
   "outputs": [
    {
     "data": {
      "text/html": [
       "<div>\n",
       "<style scoped>\n",
       "    .dataframe tbody tr th:only-of-type {\n",
       "        vertical-align: middle;\n",
       "    }\n",
       "\n",
       "    .dataframe tbody tr th {\n",
       "        vertical-align: top;\n",
       "    }\n",
       "\n",
       "    .dataframe thead th {\n",
       "        text-align: right;\n",
       "    }\n",
       "</style>\n",
       "<table border=\"1\" class=\"dataframe\">\n",
       "  <thead>\n",
       "    <tr style=\"text-align: right;\">\n",
       "      <th></th>\n",
       "      <th>accounting.firstName</th>\n",
       "      <th>accounting.lastName</th>\n",
       "      <th>accounting.age</th>\n",
       "      <th>sales.firstName</th>\n",
       "      <th>sales.lastName</th>\n",
       "      <th>sales.age</th>\n",
       "    </tr>\n",
       "  </thead>\n",
       "  <tbody>\n",
       "    <tr>\n",
       "      <th>0</th>\n",
       "      <td>[John, Mary]</td>\n",
       "      <td>[Doe, Smith]</td>\n",
       "      <td>[23, 32]</td>\n",
       "      <td>[Sally, Jim]</td>\n",
       "      <td>[Green, Galley]</td>\n",
       "      <td>[27, 41]</td>\n",
       "    </tr>\n",
       "  </tbody>\n",
       "</table>\n",
       "</div>"
      ],
      "text/plain": [
       "  accounting.firstName accounting.lastName accounting.age sales.firstName  \\\n",
       "0         [John, Mary]        [Doe, Smith]       [23, 32]    [Sally, Jim]   \n",
       "\n",
       "    sales.lastName sales.age  \n",
       "0  [Green, Galley]  [27, 41]  "
      ]
     },
     "execution_count": 10,
     "metadata": {},
     "output_type": "execute_result"
    }
   ],
   "source": [
    "df = fj.flatten_json(data)\n",
    "df"
   ]
  },
  {
   "cell_type": "markdown",
   "metadata": {},
   "source": [
    "**All the JSON examples that I have used here are a copied from google, json.org, and stackoverflow. I do not own these examples and give credits to the creators of these examples**"
   ]
  }
 ],
 "metadata": {
  "kernelspec": {
   "display_name": "Python 3",
   "language": "python",
   "name": "python3"
  },
  "language_info": {
   "codemirror_mode": {
    "name": "ipython",
    "version": 3
   },
   "file_extension": ".py",
   "mimetype": "text/x-python",
   "name": "python",
   "nbconvert_exporter": "python",
   "pygments_lexer": "ipython3",
   "version": "3.8.3"
  }
 },
 "nbformat": 4,
 "nbformat_minor": 4
}
