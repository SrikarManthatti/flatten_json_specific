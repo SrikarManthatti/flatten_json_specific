{
 "cells": [
  {
   "cell_type": "code",
   "execution_count": 18,
   "metadata": {},
   "outputs": [],
   "source": [
    "import json\n",
    "import pandas as pd\n",
    "import numpy as np"
   ]
  },
  {
   "cell_type": "code",
   "execution_count": 83,
   "metadata": {},
   "outputs": [],
   "source": [
    "def flatten_outer (data):\n",
    "    \"\"\"\n",
    "    Description: This is upper level function which has a list that stores each row values dictionary\n",
    "    Parameters: data, accepts each record of a json file\n",
    "    \"\"\"\n",
    "    full_list = []\n",
    "    def flatten_inner(sub_data,first_level_key='',index=0,tot_len=0):\n",
    "        \n",
    "        \"\"\"\n",
    "        Description: This function iterates through each and every key value pair in a JSON record. If any key has a list of items\n",
    "                     then this function will preserve the structure of the data and creates a row value as a list for each column. \n",
    "                     In this way, there will be no change in the number of rows of a dataframe, and it will be easy to perform some \n",
    "                     further cleaning and transformation tasks\n",
    "        Parameters: sub_data - for each key which has a dictionary or list value will be passed again to this function as a part of recursion.\n",
    "                                This parameter contains the dict or list value\n",
    "                    first_level_key - first level key in the json file\n",
    "                    index - this index value is used to send the item position if a value is a list, otherwise it will be 0\n",
    "                    tot_len - if any key has a list nested value, then the length of list nested value will be passed in here. This value will be used to created a placeholder list\n",
    "        \"\"\"\n",
    "        for k,v in sub_data.items():\n",
    "            full_key = first_level_key+'.'+k if first_level_key !='' else k\n",
    "            if isinstance(v, dict): \n",
    "                flatten_inner(v, full_key)\n",
    "                \n",
    "            elif isinstance(v, list):\n",
    "                for i in range(0, len(v)): \n",
    "                    if (isinstance(v[i], dict)):\n",
    "                        flatten_inner(v[i], full_key,index=i, tot_len=len(v))\n",
    "                    else: \n",
    "                        value_list[full_key] = v\n",
    "            else:\n",
    "\n",
    "                if full_key in value_list.keys():\n",
    "                    placeholder_list = value_list[full_key]\n",
    "                    placeholder_list[index] = v\n",
    "                    value_list[full_key] = placeholder_list\n",
    "                else:\n",
    "                    if index == 0:\n",
    "                        if tot_len == 0:\n",
    "                            value_list[full_key] = v\n",
    "                        else:\n",
    "                            placeholder_list = [None]*tot_len\n",
    "                            placeholder_list[0] = v\n",
    "                            value_list[full_key] = placeholder_list\n",
    "                    else:\n",
    "                        \n",
    "                        dif = tot_len - index - 1\n",
    "                        placeholder_list = [None] * index\n",
    "                        placeholder_list.append(v)\n",
    "                        placeholder_list = placeholder_list + [None] * dif\n",
    "                        value_list[full_key] = placeholder_list\n",
    "                \n",
    "        return value_list\n",
    "        \n",
    "    for row in data:\n",
    "        value_list = dict() #creating a value_list to store key value pairs(column values) for each record\n",
    "        cv =  flatten_inner(row)\n",
    "        full_list.append(cv)\n",
    "    \n",
    "    return full_list"
   ]
  },
  {
   "cell_type": "code",
   "execution_count": 84,
   "metadata": {},
   "outputs": [],
   "source": [
    "def df_create_clean(full_list):\n",
    "    df = pd.DataFrame(full_list)\n",
    "    df = df.where(pd.notnull(df),None)\n",
    "    cols = df.columns\n",
    "    for col in cols:\n",
    "        df[col] = df[col].apply(lambda x: None if (isinstance(x,list) and len(x)==0) else x)\n",
    "        df[col] = df[col].apply(lambda x: x[0] if (isinstance(x,list) and len(x)==1) else x)\n",
    "    return df\n"
   ]
  },
  {
   "cell_type": "code",
   "execution_count": 91,
   "metadata": {},
   "outputs": [],
   "source": [
    "data = [{'state': 'Florida',\n",
    "          'shortname': 'FL',\n",
    "          'info': {\n",
    "               'governor': 'Rick Scott'\n",
    "          },\n",
    "          'counties': [{'name': 'Dade', 'population': 12345,'check':'YesYes'},\n",
    "                      {'name': 'Broward', 'population': 40000},\n",
    "                      {'name': 'Palm Beach', 'population': 60000}]},\n",
    "         {'state': 'Ohio',\n",
    "          'shortname': 'OH',\n",
    "          'info': {\n",
    "               'governor': 'John Kasich'\n",
    "          },\n",
    "          'counties': [{'name': 'Summit', 'population': 1234},\n",
    "                       {'name': 'Cuyahoga', 'population': 1337},\n",
    "                      {'name': 'Cuyahoga2', 'population': 1331,'check':'YesYes'}]}]"
   ]
  },
  {
   "cell_type": "code",
   "execution_count": 92,
   "metadata": {},
   "outputs": [
    {
     "name": "stdout",
     "output_type": "stream",
     "text": [
      "finkey is: state\n",
      "finkey value is: Florida\n",
      "finkey is: shortname\n",
      "finkey value is: FL\n",
      "finkey is: info.governor\n",
      "finkey value is: Rick Scott\n",
      "finkey is: counties.name\n",
      "finkey value is: ['Dade', None, None]\n",
      "finkey is: counties.population\n",
      "finkey value is: [12345, None, None]\n",
      "finkey is: counties.check\n",
      "finkey value is: ['YesYes', None, None]\n",
      "finkey is: counties.name\n",
      "finkey value is: ['Dade', 'Broward', None]\n",
      "finkey is: counties.population\n",
      "finkey value is: [12345, 40000, None]\n",
      "finkey is: counties.name\n",
      "finkey value is: ['Dade', 'Broward', 'Palm Beach']\n",
      "finkey is: counties.population\n",
      "finkey value is: [12345, 40000, 60000]\n",
      "finkey is: state\n",
      "finkey value is: Ohio\n",
      "finkey is: shortname\n",
      "finkey value is: OH\n",
      "finkey is: info.governor\n",
      "finkey value is: John Kasich\n",
      "finkey is: counties.name\n",
      "finkey value is: ['Summit', None, None]\n",
      "finkey is: counties.population\n",
      "finkey value is: [1234, None, None]\n",
      "finkey is: counties.name\n",
      "finkey value is: ['Summit', 'Cuyahoga', None]\n",
      "finkey is: counties.population\n",
      "finkey value is: [1234, 1337, None]\n",
      "finkey is: counties.name\n",
      "finkey value is: ['Summit', 'Cuyahoga', 'Cuyahoga2']\n",
      "finkey is: counties.population\n",
      "finkey value is: [1234, 1337, 1331]\n",
      "inx is not 0\n",
      "finkey is: counties.check\n",
      "finkey value is: [None, None, 'YesYes']\n"
     ]
    }
   ],
   "source": [
    "ls = flatten_outer(data)\n",
    "f_df = df_create_clean(ls)\n",
    "    "
   ]
  },
  {
   "cell_type": "code",
   "execution_count": 93,
   "metadata": {},
   "outputs": [
    {
     "data": {
      "text/html": [
       "<div>\n",
       "<style scoped>\n",
       "    .dataframe tbody tr th:only-of-type {\n",
       "        vertical-align: middle;\n",
       "    }\n",
       "\n",
       "    .dataframe tbody tr th {\n",
       "        vertical-align: top;\n",
       "    }\n",
       "\n",
       "    .dataframe thead th {\n",
       "        text-align: right;\n",
       "    }\n",
       "</style>\n",
       "<table border=\"1\" class=\"dataframe\">\n",
       "  <thead>\n",
       "    <tr style=\"text-align: right;\">\n",
       "      <th></th>\n",
       "      <th>state</th>\n",
       "      <th>shortname</th>\n",
       "      <th>info.governor</th>\n",
       "      <th>counties.name</th>\n",
       "      <th>counties.population</th>\n",
       "      <th>counties.check</th>\n",
       "    </tr>\n",
       "  </thead>\n",
       "  <tbody>\n",
       "    <tr>\n",
       "      <th>0</th>\n",
       "      <td>Florida</td>\n",
       "      <td>FL</td>\n",
       "      <td>Rick Scott</td>\n",
       "      <td>[Dade, Broward, Palm Beach]</td>\n",
       "      <td>[12345, 40000, 60000]</td>\n",
       "      <td>[YesYes, None, None]</td>\n",
       "    </tr>\n",
       "    <tr>\n",
       "      <th>1</th>\n",
       "      <td>Ohio</td>\n",
       "      <td>OH</td>\n",
       "      <td>John Kasich</td>\n",
       "      <td>[Summit, Cuyahoga, Cuyahoga2]</td>\n",
       "      <td>[1234, 1337, 1331]</td>\n",
       "      <td>[None, None, YesYes]</td>\n",
       "    </tr>\n",
       "  </tbody>\n",
       "</table>\n",
       "</div>"
      ],
      "text/plain": [
       "     state shortname info.governor                  counties.name  \\\n",
       "0  Florida        FL    Rick Scott    [Dade, Broward, Palm Beach]   \n",
       "1     Ohio        OH   John Kasich  [Summit, Cuyahoga, Cuyahoga2]   \n",
       "\n",
       "     counties.population        counties.check  \n",
       "0  [12345, 40000, 60000]  [YesYes, None, None]  \n",
       "1     [1234, 1337, 1331]  [None, None, YesYes]  "
      ]
     },
     "execution_count": 93,
     "metadata": {},
     "output_type": "execute_result"
    }
   ],
   "source": [
    "f_df"
   ]
  },
  {
   "cell_type": "code",
   "execution_count": null,
   "metadata": {},
   "outputs": [],
   "source": [
    "    "
   ]
  }
 ],
 "metadata": {
  "kernelspec": {
   "display_name": "Python 3",
   "language": "python",
   "name": "python3"
  },
  "language_info": {
   "codemirror_mode": {
    "name": "ipython",
    "version": 3
   },
   "file_extension": ".py",
   "mimetype": "text/x-python",
   "name": "python",
   "nbconvert_exporter": "python",
   "pygments_lexer": "ipython3",
   "version": "3.8.3"
  }
 },
 "nbformat": 4,
 "nbformat_minor": 4
}
