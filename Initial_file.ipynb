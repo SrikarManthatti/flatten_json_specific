{
 "cells": [
  {
   "cell_type": "code",
   "execution_count": 14,
   "metadata": {},
   "outputs": [],
   "source": [
    "import json\n",
    "import pandas as pd\n",
    "import numpy as np"
   ]
  },
  {
   "cell_type": "code",
   "execution_count": 55,
   "metadata": {},
   "outputs": [],
   "source": [
    "def flatten_outer (data):\n",
    "    full_list = []\n",
    "    def magic_json (min_data,high_level_key):\n",
    "        #print('min_data is: ', min_data.keys())\n",
    "        for k,v in min_data.items():\n",
    "            #print(\"key is: \", k)\n",
    "            fin_key = high_level_key+'.'+k if high_level_key !='' else k\n",
    "            #print('fin_key: ', fin_key)\n",
    "            if isinstance(v, dict): \n",
    "                magic_json(v, fin_key)\n",
    "                \n",
    "            elif isinstance(v, list):\n",
    "                for i in range(0, len(v)): \n",
    "                    if (isinstance(v[i], dict)):\n",
    "                        magic_json(v[i], fin_key)\n",
    "                    else: \n",
    "                        my_list[fin_key] = v\n",
    "            else:\n",
    "                if fin_key in my_list.keys():\n",
    "                    my_list[fin_key].append(v) \n",
    "                else:\n",
    "                    my_list[fin_key] = [v]\n",
    "        \n",
    "        return my_list\n",
    "        \n",
    "    for row in data:\n",
    "        #print(\"each row: \",row)\n",
    "        my_list = dict() \n",
    "        cv =  magic_json(row,'')\n",
    "        full_list.append(cv)\n",
    "    \n",
    "    #dataframe = df_create_clean(full_list)\n",
    "    \n",
    "    return full_list"
   ]
  },
  {
   "cell_type": "code",
   "execution_count": 56,
   "metadata": {},
   "outputs": [],
   "source": [
    "def df_create_clean(full_list):\n",
    "    df = pd.DataFrame(full_list)\n",
    "    df = df.where(pd.notnull(df),None)\n",
    "    cols = df.columns\n",
    "    for col in cols:\n",
    "        df[col] = df[col].apply(lambda x: None if (isinstance(x,list) and len(x)==0) else x)\n",
    "        df[col] = df[col].apply(lambda x: x[0] if (isinstance(x,list) and len(x)==1) else x)\n",
    "    return df\n"
   ]
  },
  {
   "cell_type": "code",
   "execution_count": 57,
   "metadata": {},
   "outputs": [],
   "source": [
    "data = [{'state': 'Florida',\n",
    "          'shortname': 'FL',\n",
    "          'info': {\n",
    "               'governor': 'Rick Scott'\n",
    "          },\n",
    "          'counties': [{'name': 'Dade', 'population': 12345},\n",
    "                      {'name': 'Broward', 'population': 40000},\n",
    "                      {'name': 'Palm Beach', 'population': 60000}]},\n",
    "         {'state': 'Ohio',\n",
    "          'shortname': 'OH',\n",
    "          'info': {\n",
    "               'governor': 'John Kasich'\n",
    "          },\n",
    "          'counties': [{'name': 'Summit', 'population': 1234},\n",
    "                       {'name': 'Cuyahoga', 'population': 1337}]}]"
   ]
  },
  {
   "cell_type": "code",
   "execution_count": 58,
   "metadata": {},
   "outputs": [],
   "source": [
    "ls = flatten_outer(data)\n",
    "f_df = df_create_clean(ls)\n",
    "    "
   ]
  },
  {
   "cell_type": "code",
   "execution_count": 59,
   "metadata": {},
   "outputs": [
    {
     "data": {
      "text/html": [
       "<div>\n",
       "<style scoped>\n",
       "    .dataframe tbody tr th:only-of-type {\n",
       "        vertical-align: middle;\n",
       "    }\n",
       "\n",
       "    .dataframe tbody tr th {\n",
       "        vertical-align: top;\n",
       "    }\n",
       "\n",
       "    .dataframe thead th {\n",
       "        text-align: right;\n",
       "    }\n",
       "</style>\n",
       "<table border=\"1\" class=\"dataframe\">\n",
       "  <thead>\n",
       "    <tr style=\"text-align: right;\">\n",
       "      <th></th>\n",
       "      <th>state</th>\n",
       "      <th>shortname</th>\n",
       "      <th>info.governor</th>\n",
       "      <th>counties.name</th>\n",
       "      <th>counties.population</th>\n",
       "    </tr>\n",
       "  </thead>\n",
       "  <tbody>\n",
       "    <tr>\n",
       "      <th>0</th>\n",
       "      <td>Florida</td>\n",
       "      <td>FL</td>\n",
       "      <td>Rick Scott</td>\n",
       "      <td>[Dade, Broward, Palm Beach]</td>\n",
       "      <td>[12345, 40000, 60000]</td>\n",
       "    </tr>\n",
       "    <tr>\n",
       "      <th>1</th>\n",
       "      <td>Ohio</td>\n",
       "      <td>OH</td>\n",
       "      <td>John Kasich</td>\n",
       "      <td>[Summit, Cuyahoga]</td>\n",
       "      <td>[1234, 1337]</td>\n",
       "    </tr>\n",
       "  </tbody>\n",
       "</table>\n",
       "</div>"
      ],
      "text/plain": [
       "     state shortname info.governor                counties.name  \\\n",
       "0  Florida        FL    Rick Scott  [Dade, Broward, Palm Beach]   \n",
       "1     Ohio        OH   John Kasich           [Summit, Cuyahoga]   \n",
       "\n",
       "     counties.population  \n",
       "0  [12345, 40000, 60000]  \n",
       "1           [1234, 1337]  "
      ]
     },
     "execution_count": 59,
     "metadata": {},
     "output_type": "execute_result"
    }
   ],
   "source": [
    "f_df"
   ]
  },
  {
   "cell_type": "code",
   "execution_count": null,
   "metadata": {},
   "outputs": [],
   "source": [
    "    "
   ]
  }
 ],
 "metadata": {
  "kernelspec": {
   "display_name": "Python 3",
   "language": "python",
   "name": "python3"
  },
  "language_info": {
   "codemirror_mode": {
    "name": "ipython",
    "version": 3
   },
   "file_extension": ".py",
   "mimetype": "text/x-python",
   "name": "python",
   "nbconvert_exporter": "python",
   "pygments_lexer": "ipython3",
   "version": "3.8.3"
  }
 },
 "nbformat": 4,
 "nbformat_minor": 4
}
